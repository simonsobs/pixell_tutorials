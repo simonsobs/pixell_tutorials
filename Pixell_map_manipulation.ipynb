{
  "nbformat": 4,
  "nbformat_minor": 0,
  "metadata": {
    "colab": {
      "provenance": []
    },
    "kernelspec": {
      "name": "python3",
      "display_name": "Python 3"
    },
    "language_info": {
      "name": "python"
    }
  },
  "cells": [
    {
      "cell_type": "markdown",
      "source": [
        "# Map Manipulation with pixell\n",
        "\n",
        "\n",
        "*Written by the ACT Collaboration*\n",
        "\n",
        "[![Open In Colab](https://colab.research.google.com/assets/colab-badge.svg)](https://colab.research.google.com/github/simonsobs/pixell_tutorials/blob/master/pixell_map_manipulation.ipynb)\n",
        "\n",
        "---\n",
        "\n",
        "This  notebook, and the accompanying notebooks included in this set, are designed to help users who are new to working with [`pixell`](https://github.com/simonsobs/pixell/) get started with the package. As a set these notebooks will guide users through examples of how to read in and display maps, how to perform spherical harmonic transform and calculate simple spectra, how to transform the maps and how to study point sources in the maps.\n",
        "\n",
        "The `pixell` library allows users to load,\n",
        "manipulate and analyze maps stored in rectangular pixelization. It is\n",
        "mainly targeted for use with maps of the sky (e.g. CMB intensity and polarization maps, stacks of 21 cm intensity maps, binned galaxy positions or shear) in cylindrical projection.\n",
        "\n",
        "In this introductory notebook we will explain the basis for the sky maps used in `pixell` and walk through examples of how to read in CMB maps and inspect them. We'll also explain how to relate the pixels to locations on the sky and how to inspect smaller patches of the sky."
      ],
      "metadata": {
        "id": "yPF5lzLN9DJB"
      }
    },
    {
      "cell_type": "code",
      "source": [
        "# Download the data needed for the notebook\n",
        "!wget -O act_planck_dr5.01_s08s18_AA_f150_night_map_d56_I.fits https://phy-act1.princeton.edu/public/zatkins/act_planck_dr5.01_s08s18_AA_f150_night_map_d56_I.fits"
      ],
      "metadata": {
        "id": "GPzMLmYO98my"
      },
      "execution_count": null,
      "outputs": []
    },
    {
      "cell_type": "code",
      "execution_count": null,
      "metadata": {
        "id": "kDFKT4bz89Ra"
      },
      "outputs": [],
      "source": [
        "# Install neccesary packages\n",
        "!pip install pixell"
      ]
    },
    {
      "cell_type": "code",
      "source": [
        "# Import packages\n",
        "from pixell import enmap, utils, enplot\n",
        "import numpy as np"
      ],
      "metadata": {
        "id": "s3We41ht94xX"
      },
      "execution_count": null,
      "outputs": []
    },
    {
      "cell_type": "markdown",
      "source": [
        "## About `pixell` and `ndmap` objects\n",
        "\n",
        "The `pixell` library supports manipulation of sky maps that are represented as 2-dimensional grids of rectangular pixels. The supported projection and pixelization schemes are a subset of the schemes supported by FITS conventions. In addition, we provide support for a *plain* coordinate system, corresponding to a Cartesian plane with identically shaped pixels (useful for true flat-sky calculations).\n",
        "\n",
        "In `pixell`, a map is encapsulated in an `ndmap`, which combines two objects: a numpy array (of at least two dimensions) whose two trailing dimensions correspond to two coordinate axes of the map, and a `wcs` object that specifies the World Coordinate System. The `wcs` component is an instance of Astropy’s `astropy.wcs.wcs.WCS` class. The combination of the wcs and the shape of the numpy array completely specifies the footprint of a map of the sky, and is called the `geometry`. This library helps with manipulation of `ndmap` objects in ways that are aware of and preserve the validity of the wcs information.\n",
        "\n",
        "The `wcs` information describes the correspondence between celestial coordinates (typically the Right Ascension, or RA, in the Equatorial system) and the pixel indices in the two right-most axes. In some projections, such as CEA or CAR, rows (and columns) of the pixel grid will often follow lines of constant declination (and RA). In other projections, this will not be the case.\n",
        "\n",
        "The WCS system is very flexible in how celestial coordinates may be associated with the pixel array. By observing certain conventions, we can make life easier for users of our maps. We recommend the following:\n",
        "\n",
        "The first pixel, index [0,0], should be the one that you would normally display (on a monitor or printed figure) in the lower left-hand corner of the image. The pixel indexed by [0,1] should appear to the right of [0,0], and pixel [1,0] should be above pixel [0,0]. (This recommendation originates in FITS standards documentation.)\n",
        "When working with large maps that are not near the celestial poles, RA should be roughly horizontal and declination should be roughly vertical. (It should go without saying that you should also present information “as it would appear on the sky”, i.e. with RA increasing to the left!)\n",
        "The examples in the rest of this document are designed to respect these two conventions."
      ],
      "metadata": {
        "id": "RFGNWqMC9yb5"
      }
    },
    {
      "cell_type": "markdown",
      "source": [
        "### Creating an `ndmap`\n",
        "\n",
        "We can define an `ndmap` by using `pixell` to specify a geometry. For example, if we want to create an empty map we would do the following:\n",
        "\n"
      ],
      "metadata": {
        "id": "a34eVMiNhajB"
      }
    },
    {
      "cell_type": "code",
      "source": [
        "# Define area of map using numpy\n",
        "# pixell wants the box in the following format:\n",
        "# [[dec_from, RA_from], [dec_to, RA_to]]\n",
        "# Note RA goes \"from\" left \"to\" right!\n",
        "box = np.array([[-5, 10], [5, -10]]) * utils.degree\n",
        "\n",
        "# Define a map geometry\n",
        "# the width and height of each pixel will be .5 arcmin\n",
        "shape, wcs = enmap.geometry(pos=box, res=0.5 * utils.arcmin, proj='car')\n",
        "\n",
        "# Create an empty ndmap\n",
        "empty_map = enmap.zeros((3,) + shape, wcs=wcs)"
      ],
      "metadata": {
        "id": "fKrkMasI2tCN"
      },
      "execution_count": null,
      "outputs": []
    },
    {
      "cell_type": "markdown",
      "source": [
        "## Inspecting maps\n",
        "\n",
        "The `ndmap` class extends the `numpy.ndarray` class, and thus has all of the usual attributes (`.shape`, `.dtype`, etc.) of an `ndarray`. It is likely that an `ndmap` object can be used in any functions that usually operate on an ndarray; this includes the usual numpy array arithmetic, slicing, broadcasting, etc.\n",
        "\n",
        "An `ndmap` must have at least two dimensions. The two right-most axes represent celestial coordinates (typically declination and RA, respectively). Maps can have arbitrary number of leading dimensions, but many of the `pixell` CMB-related tools interpret 3D arrays with shape `(ncomp,Ny,Nx)` as representing `Ny` x `Nx` maps of intensity, polarization Q and U Stokes parameters, in that order."
      ],
      "metadata": {
        "id": "Q3g5_r_shIAl"
      }
    },
    {
      "cell_type": "code",
      "source": [
        "# Check out the ndmap\n",
        "# does the shape make sense given the bounding box and resolution?\n",
        "print(empty_map.shape)\n",
        "print(empty_map.dtype)\n",
        "print(empty_map + np.pi)\n",
        "print(empty_map[0, 10:15, 90:95] == 0)"
      ],
      "metadata": {
        "id": "5XRFJaPKokI0"
      },
      "execution_count": null,
      "outputs": []
    },
    {
      "cell_type": "markdown",
      "source": [
        "The `ndmap` also has a new attribute, the `wcs`:"
      ],
      "metadata": {
        "id": "uFKarnbjor6r"
      }
    },
    {
      "cell_type": "code",
      "source": [
        "print(empty_map.wcs)"
      ],
      "metadata": {
        "id": "8sb4i_JahHPd"
      },
      "execution_count": null,
      "outputs": []
    },
    {
      "cell_type": "markdown",
      "source": [
        "It has everything we need to map pixels to and from the sky: the cylindrical projection we are using (`car`), the size of the pixels (in degrees), the location on the sky of a reference pixel (in degrees) and the location in the array of the reference pixel.\n",
        "\n",
        "NOTE: the `ndmap` data contains declination in the second-to-last axis and RA in the last axis, because this corresponds to the varying rows and columns of the array. But in the `wcs`, which is built by `astropy` outside of `pixell`, information is stored in the opposite order: RA first, then declination. Note the size of the pixels in RA is negative: the RA of pixels farther to the right in the array is *less*.\n",
        "\n",
        "We can also add a wcs to a numpy array. Sometimes this is necessary after performing a numpy operation on a ndmap as it might remove the `wcs`:"
      ],
      "metadata": {
        "id": "6ccUogf63Vn1"
      }
    },
    {
      "cell_type": "code",
      "source": [
        "stacked_map = np.concatenate([empty_map, empty_map])\n",
        "\n",
        "print(stacked_map.shape)\n",
        "print(stacked_map.wcs)"
      ],
      "metadata": {
        "id": "qxAtK54Ll672"
      },
      "execution_count": null,
      "outputs": []
    },
    {
      "cell_type": "markdown",
      "source": [
        "Let's fix this:"
      ],
      "metadata": {
        "id": "gz67xNgbl9ef"
      }
    },
    {
      "cell_type": "code",
      "source": [
        "# Let's add a wcs to this data by doing this\n",
        "omap = enmap.ndmap(stacked_map, wcs)\n",
        "\n",
        "# Or this\n",
        "omap = enmap.samewcs(stacked_map, empty_map)\n",
        "\n",
        "# This does the same thing, but force-copies the data array.\n",
        "omap = enmap.enmap(stacked_map, wcs)"
      ],
      "metadata": {
        "id": "ZxuSKXvu3WxV"
      },
      "execution_count": null,
      "outputs": []
    },
    {
      "cell_type": "markdown",
      "source": [
        "Note that `ndmap` and `samewcs` will not copy the underlying data array if they don’t have to; the returned object will reference the same memory used by the input array (as though you had done `numpy.asarray`). In contrast, `enmap.enmap` will always create a copy of the input data."
      ],
      "metadata": {
        "id": "NvfzcZqb5XRZ"
      }
    },
    {
      "cell_type": "markdown",
      "source": [
        "## Reading a map from disk\n",
        "\n",
        "An entire map in `FITS` or `HDF` format can be loaded using `read_map`, which is found in the module `pixell.enmap`. The `enmap` module contains the majority of map manipulation functions."
      ],
      "metadata": {
        "id": "1h_7mdbC5BvZ"
      }
    },
    {
      "cell_type": "code",
      "source": [
        "imap = enmap.read_map('act_planck_dr5.01_s08s18_AA_f150_night_map_d56_I.fits')"
      ],
      "metadata": {
        "id": "NX2A3eIk-y0J"
      },
      "execution_count": null,
      "outputs": []
    },
    {
      "cell_type": "markdown",
      "source": [
        "Alternatively, one can select a rectangular region specified through its bounds using the box argument,"
      ],
      "metadata": {
        "id": "vJp2SxIT59iD"
      }
    },
    {
      "cell_type": "code",
      "source": [
        "dec_min = -7 ; ra_min = 5 ; dec_max = 3 ; ra_max = -5\n",
        "\n",
        "# All coordinates in pixell are specified in radians\n",
        "box = np.array([[dec_min, ra_min], [dec_max, ra_max]]) * utils.degree\n",
        "\n",
        "imap_box = enmap.read_map(\"act_planck_dr5.01_s08s18_AA_f150_night_map_d56_I.fits\", box=box)"
      ],
      "metadata": {
        "id": "VAJKp6aj6AqH"
      },
      "execution_count": null,
      "outputs": []
    },
    {
      "cell_type": "markdown",
      "source": [
        "We can perform computations on the array like any other array:"
      ],
      "metadata": {
        "id": "POgT0x9Dp6nh"
      }
    },
    {
      "cell_type": "code",
      "source": [
        "print(np.mean(imap))"
      ],
      "metadata": {
        "id": "zQ1LqS_W-8Ul"
      },
      "execution_count": null,
      "outputs": []
    },
    {
      "cell_type": "markdown",
      "source": [
        "## Visualizing maps\n",
        "\n",
        "We can use the `pixell.enplot` functions to visualize ndmaps. For example, if we want to plot this imap_box we first create the plot and then show it. This can also be done with a saved map on the command line (i.e. `enplot map_name.fits`). There are several plotting options built-in to the `enplot` function. They are listed in the documentation here: https://pixell.readthedocs.io/en/latest/reference.html#module-pixell.enplot"
      ],
      "metadata": {
        "id": "3XcvCCF6J9dq"
      }
    },
    {
      "cell_type": "code",
      "source": [
        "# Code to plot maps\n",
        "enplot.pshow(imap_box, colorbar=True, downgrade=2)"
      ],
      "metadata": {
        "id": "EllLz41SKCoA"
      },
      "execution_count": null,
      "outputs": []
    },
    {
      "cell_type": "markdown",
      "source": [
        "### Selecting regions of the sky"
      ],
      "metadata": {
        "id": "8PaE13yJIgDB"
      }
    },
    {
      "cell_type": "markdown",
      "source": [
        "We may select a region of this map using array slicing. Note that wcs information is correctly adjusted when the array is sliced; for example the object returned by `imap[:50,:50]` is a view into the `imap` data attached to a new `wcs` object that correctly describes the footprint of the extracted pixels. BUT be cautious when assigning an extracted map to a new variable as operations on that variable will also affect the original map.\n"
      ],
      "metadata": {
        "id": "trBrnei7vkVm"
      }
    },
    {
      "cell_type": "code",
      "source": [
        "# view one section of the map. Note that wcs is updated\n",
        "print(f'Original Shape: {imap.shape}, Original WCS: {imap.wcs}')\n",
        "imap_extract = imap[50:100,50:100]\n",
        "print(f'New Shape: {imap_extract.shape}, New WCS: {imap_extract.wcs} \\n')\n",
        "\n",
        "# Visualize the map cut out\n",
        "plot = enplot.plot(imap_extract)\n",
        "enplot.show(plot)\n",
        "\n",
        "# note that opperations on imap_extract also affects imap\n",
        "print(f'Original Mean: {np.mean(imap)}')\n",
        "imap_extract *= 1e6\n",
        "print(f'Mean after modification: {np.mean(imap)}')\n",
        "\n",
        "# Let's get the imap back to it's original state\n",
        "imap = enmap.read_map('act_planck_dr5.01_s08s18_AA_f150_night_map_d56_I.fits')"
      ],
      "metadata": {
        "id": "ELOz2zvDgwkc"
      },
      "execution_count": null,
      "outputs": []
    },
    {
      "cell_type": "markdown",
      "source": [
        "Alternatively, We can select a coordinate box to creat a subplot around by defining the bottom left and top right coordinates. This opperation will also output the correct wcs for the submap. For example, if we want to create a 0.5x0.5 deg submap around the coordinates a RA of 5 and a DEC of -1 we would use the code below. Note that changing the submap will not affect the original map."
      ],
      "metadata": {
        "id": "D_qX8KTsv9T0"
      }
    },
    {
      "cell_type": "code",
      "source": [
        "# First we need to define our coordinates and radius in radians (utils.degree converts degrees to radians)\n",
        "ra = 5. * utils.degree\n",
        "dec = -1. * utils.degree\n",
        "radius = 0.5 * utils.degree\n",
        "\n",
        "# Next we create our submap by defining a box in coordinate space\n",
        "imap_sub = imap.submap([[dec - radius, ra - radius], [dec + radius, ra + radius]])\n",
        "\n",
        "# Visualize the map corner\n",
        "plot = enplot.plot(imap_extract)\n",
        "enplot.show(plot)\n",
        "\n",
        "# Note that the shape and wcs are updated\n",
        "print(imap.shape, imap.wcs)\n",
        "print(imap_sub.shape, imap_sub.wcs, '\\n')\n",
        "\n",
        "# Opperations on the submap do not affect the mean map\n",
        "print(np.mean(imap))\n",
        "imap_sub *= 1e6\n",
        "print(np.mean(imap))"
      ],
      "metadata": {
        "id": "UmhBZaNcIlWT"
      },
      "execution_count": null,
      "outputs": []
    },
    {
      "cell_type": "markdown",
      "source": [
        "## Downgrading\n",
        "\n",
        "`enmap.downgrade` downgrades maps by an integer factor by averaging pixels. We can also downgrade by different integer factors in either direction."
      ],
      "metadata": {
        "id": "6FkNv0VuKQLE"
      }
    },
    {
      "cell_type": "code",
      "source": [
        "# Using enmap.downgrade, careful with quadrature\n",
        "# TODO: What do you mean careful with qudrature?\n",
        "\n",
        "# Downgrade both directions by a factor of 2\n",
        "imap_downgrade = imap.downgrade(2)\n",
        "print(imap_downgrade.shape)\n",
        "\n",
        "# Downgrade in y by 2 and in x by 3\n",
        "imap_downgrade = imap.downgrade((2, 3))\n",
        "print(imap_downgrade.shape)"
      ],
      "metadata": {
        "id": "Oi6iv-1gItXo"
      },
      "execution_count": null,
      "outputs": []
    },
    {
      "cell_type": "markdown",
      "source": [
        "## Relating pixels to the sky\n",
        "\n",
        "The geometry specified through `shape` and `wcs` contains all the information to get properties of the map related to the sky. `pixell` always specifies the Y coordinate first. So a sky position is often in the form `(dec,ra)` where `dec` could be the declination and `ra` could be the RA in radians in the equatorial coordinate system.\n",
        "\n",
        "The pixel corresponding to ra=8, dec=2 can be obtained like"
      ],
      "metadata": {
        "id": "IvQMAk-rIo9C"
      }
    },
    {
      "cell_type": "code",
      "source": [
        "dec = 2\n",
        "ra = 8\n",
        "coords = np.deg2rad(np.array((dec,ra)))\n",
        "ypix, xpix = enmap.sky2pix(imap.shape, imap.wcs, coords)\n",
        "print(ypix, xpix)"
      ],
      "metadata": {
        "id": "92wV1owtKXEJ"
      },
      "execution_count": null,
      "outputs": []
    },
    {
      "cell_type": "markdown",
      "source": [
        "We can also use the map directly to perform this calculation:"
      ],
      "metadata": {
        "id": "90yyD1nZktXC"
      }
    },
    {
      "cell_type": "code",
      "source": [
        "ypix, xpix = imap.sky2pix(coords)\n",
        "print(ypix, xpix)"
      ],
      "metadata": {
        "id": "lDYISOgskqbA"
      },
      "execution_count": null,
      "outputs": []
    },
    {
      "cell_type": "markdown",
      "source": [
        "We can pass a large number of coordinates for a vectorized conversion. In this case coords should have the shape (2,Ncoords), where Ncoords is the number of coordinates you want to convert, with the first row containing declination and the second row containing RA. For instance,"
      ],
      "metadata": {
        "id": "LK5QxpA4lFUo"
      }
    },
    {
      "cell_type": "code",
      "source": [
        "dec = np.array([-5, 0, 3])\n",
        "ra = np.array([5, 0, -5])\n",
        "\n",
        "coords = np.deg2rad(np.array((dec,ra)))\n",
        "print(coords.shape, '\\n')\n",
        "\n",
        "ypix, xpix = imap.sky2pix(coords)\n",
        "print(ypix, xpix)"
      ],
      "metadata": {
        "id": "U9d_4ifwk3s1"
      },
      "execution_count": null,
      "outputs": []
    },
    {
      "cell_type": "markdown",
      "source": [
        "Let's find the values of the map at these positions. Most of the work is done, but we must convert each position to an integer value as the returned pixel coordinates are in general fractional."
      ],
      "metadata": {
        "id": "ifEDGvPIl_GR"
      }
    },
    {
      "cell_type": "code",
      "source": [
        "ypix = ypix.astype(int)\n",
        "xpix = xpix.astype(int)\n",
        "imap[ypix, xpix]"
      ],
      "metadata": {
        "id": "0WqNmYoBlmDG"
      },
      "execution_count": null,
      "outputs": []
    },
    {
      "cell_type": "markdown",
      "source": [
        "Similarly, pixel coordinates can be converted to sky coordinates"
      ],
      "metadata": {
        "id": "ThFxPh8knRa4"
      }
    },
    {
      "cell_type": "code",
      "source": [
        "ypix = 100\n",
        "xpix = 100\n",
        "pixes = np.array([ypix, xpix])\n",
        "dec, ra = np.rad2deg(imap.pix2sky(pixes)) # pix2sky, sky2pix work in radians\n",
        "print(dec, ra)"
      ],
      "metadata": {
        "id": "sRfCrBaZmU6O"
      },
      "execution_count": null,
      "outputs": []
    },
    {
      "cell_type": "markdown",
      "source": [
        "Using the `enmap.posmap` function, you can get a map of shape `(2,Ny,Nx)` containing the coordinate positions in radians of each pixel of the map."
      ],
      "metadata": {
        "id": "jTBpsryuoBfA"
      }
    },
    {
      "cell_type": "code",
      "source": [
        "posmap = imap.posmap()\n",
        "dec = posmap[0] # dec in radians\n",
        "ra = posmap[1] # ra in radians\n",
        "print(dec[0][0], ra[0][0])"
      ],
      "metadata": {
        "id": "GodVmtwLoE3I"
      },
      "execution_count": null,
      "outputs": []
    },
    {
      "cell_type": "markdown",
      "source": [
        "Using the `enmap.pixmap` function, you can get a map of shape `(2,Ny,Nx)` containing the integer pixel coordinates of each pixel of the map."
      ],
      "metadata": {
        "id": "KPcFKt39nwL3"
      }
    },
    {
      "cell_type": "code",
      "source": [
        "pixmap = imap.pixmap()\n",
        "pixy = pixmap[0]\n",
        "pixx = pixmap[1]\n",
        "print(pixy[1][0], pixx[0][1])"
      ],
      "metadata": {
        "id": "McXDQIFUnjo_"
      },
      "execution_count": null,
      "outputs": []
    },
    {
      "cell_type": "markdown",
      "source": [
        "## Exercise: stacking on clusters (based on [this notebook](https://github.com/ACTCollaboration/DR4_DR5_Notebooks/blob/master/Notebooks/Section_4_visualize_objects.ipynb); see also [this notebook](https://github.com/ACTCollaboration/DR6_Notebooks/blob/main/ACT_DR6_ymap_stacking.ipynb) later in the course!)\n",
        "\n",
        "We will apply what we've learned to do a common analysis technique with our ACT data: stacking maps on galaxy clusters. We might want to do this in order to learn about the gas distribution in and around clusters, or to tease out their mass from weak lensing. To do this we will need a catalogue of cluster locations and more ACT data:"
      ],
      "metadata": {
        "id": "m9nZ3yyCmDn4"
      }
    },
    {
      "cell_type": "code",
      "source": [
        "# this is a full ACT DR5 map, downgraded so that it doesn't take up too much\n",
        "# memory\n",
        "!wget -O act_planck_dr5.01_s08s18_AA_f150_night_map_dg_I.fits https://phy-act1.princeton.edu/public/zatkins/act_planck_dr5.01_s08s18_AA_f150_night_map_dg_I.fits\n",
        "\n",
        "# this is the ACT DR5 tSZ cluster catalogue...how did we make it??\n",
        "!wget https://astro.ukzn.ac.za/~mjh/ACTDR5/v1.0b3/DR5_cluster-catalog_v1.0b3.fits"
      ],
      "metadata": {
        "id": "1vklQ3KLG5h-"
      },
      "execution_count": null,
      "outputs": []
    },
    {
      "cell_type": "code",
      "source": [
        "import astropy.table as atpy\n",
        "\n",
        "# get the map\n",
        "imap = enmap.read_map('act_planck_dr5.01_s08s18_AA_f150_night_map_dg_I.fits')\n",
        "\n",
        "# Read in ras and decs from a cluster catalog\n",
        "tab = atpy.Table().read('DR5_cluster-catalog_v1.0b3.fits', format='fits')\n",
        "\n",
        "# convert them to radians\n",
        "ras = tab['RADeg'] * utils.degree\n",
        "decs = tab['decDeg'] * utils.degree\n",
        "\n",
        "print(ras.shape, decs.shape)"
      ],
      "metadata": {
        "id": "djNK_VWUfQaA"
      },
      "execution_count": null,
      "outputs": []
    },
    {
      "cell_type": "markdown",
      "source": [
        "What does the full ACT DR5 + Planck data look like? Here we are only using the temperature data, not polarization:"
      ],
      "metadata": {
        "id": "UBO_lOV9MZhF"
      }
    },
    {
      "cell_type": "code",
      "source": [
        "enplot.pshow(imap, downgrade=8, colorbar=True, ticks=15, range=300)"
      ],
      "metadata": {
        "id": "f4wVEUXBMffv"
      },
      "execution_count": null,
      "outputs": []
    },
    {
      "cell_type": "markdown",
      "source": [
        "Notice the bright band of the milky way galaxy cutting across the edge of the map. It's not on the equator because the ACT data is natively in celestial coordinates (we can play around with this later). The rest of the blobby pattern, with blobs that are about a degree in size, is the CMB!\n",
        "\n",
        "Let's cut out a pixel of size .5 degrees around a random cluster and take a look:"
      ],
      "metadata": {
        "id": "Yx4RrgTDMPU5"
      }
    },
    {
      "cell_type": "code",
      "source": [
        "# try this for a bunch of different cluster indexes!\n",
        "n = 128\n",
        "radius = 0.5 * utils.degree\n",
        "\n",
        "imap_sub = imap.submap([[decs[n] - radius, ras[n] - radius], [decs[n] + radius, ras[n] + radius]])\n",
        "\n",
        "enplot.pshow(imap_sub, upgrade=16, colorbar=True, grid=False)"
      ],
      "metadata": {
        "id": "B3LG8I5fMXfm"
      },
      "execution_count": null,
      "outputs": []
    },
    {
      "cell_type": "markdown",
      "source": [
        "Not a whole lot there? This is why a stack makes sense: if clusters generally look similar in the map, but their signal is very faint, we can average their locations and try to beat-down the noise. What is the source of \"noise\" in this case?"
      ],
      "metadata": {
        "id": "rftIfgozQb0a"
      }
    },
    {
      "cell_type": "markdown",
      "source": [],
      "metadata": {
        "id": "vys_pqMxNd31"
      }
    },
    {
      "cell_type": "code",
      "source": [
        "stack = 0\n",
        "num = 0\n",
        "for n in range(len(decs)):\n",
        "  stack += imap.submap([[decs[n] - radius, ras[n] - radius], [decs[n] + radius, ras[n] + radius]])\n",
        "  num += 1\n",
        "\n",
        "  if n % 500 == 0: print(f'We have done {n} clusters')"
      ],
      "metadata": {
        "id": "LL7jxTqoG_YR"
      },
      "execution_count": null,
      "outputs": []
    },
    {
      "cell_type": "code",
      "source": [
        "enplot.pshow(stack/num, upgrade=16, colorbar=True, grid=False)"
      ],
      "metadata": {
        "id": "WFKzvLFpR8kb"
      },
      "execution_count": null,
      "outputs": []
    },
    {
      "cell_type": "markdown",
      "source": [
        "Nice! Clusters do kind of look the same in the map: they look like a cold spot. Why?\n",
        "\n",
        "Notice anything else weird about the average cluster, maybe about it's shape? Does this make sense to you? Why or why not?"
      ],
      "metadata": {
        "id": "L0aP2HylR_1J"
      }
    }
  ]
}